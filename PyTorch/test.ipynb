{
 "cells": [
  {
   "cell_type": "code",
   "execution_count": 6,
   "metadata": {},
   "outputs": [],
   "source": [
    "a = [\n",
    "    [1,2,[4,5],[6,7]],\n",
    "    [1,2,[4,5],[6,7]],\n",
    "    [1,2,[4,5],[6,7]]\n",
    "    ]"
   ]
  },
  {
   "cell_type": "code",
   "execution_count": 9,
   "metadata": {},
   "outputs": [
    {
     "data": {
      "text/plain": [
       "[[4, 5, 6, 7], [4, 5, 6, 7], [4, 5, 6, 7]]"
      ]
     },
     "execution_count": 9,
     "metadata": {},
     "output_type": "execute_result"
    }
   ],
   "source": [
    "[b[2]+b[3] for b in a]"
   ]
  },
  {
   "cell_type": "code",
   "execution_count": 7,
   "metadata": {},
   "outputs": [
    {
     "name": "stdout",
     "output_type": "stream",
     "text": [
      "[1, 2, 3452, 4, 5, 24599, 7, 1000] [0.00000000e+00 4.06537117e-05 1.40295959e-01 1.21961135e-04\n",
      " 1.62614847e-04 1.00000000e+00 2.43922270e-04 4.06130580e-02] [    0     2  3452     4     5 24599     7  1000]\n"
     ]
    }
   ],
   "source": [
    "import numpy as np\n",
    "def normalise_array(arr):\n",
    "        min_val = np.min(arr)\n",
    "        max_val = np.max(arr)\n",
    "        normalised_arr = (arr - min_val) / (max_val - min_val)\n",
    "        return normalised_arr\n",
    "a = [1,2,3452,4,5,24599,7,1000]\n",
    "b = normalise_array(a)\n",
    "c = np.array(np.ceil(b*max(a)), dtype=np.int32)\n",
    "print(a, b, c)"
   ]
  },
  {
   "cell_type": "code",
   "execution_count": null,
   "metadata": {},
   "outputs": [],
   "source": []
  }
 ],
 "metadata": {
  "kernelspec": {
   "display_name": "tf_m1",
   "language": "python",
   "name": "python3"
  },
  "language_info": {
   "codemirror_mode": {
    "name": "ipython",
    "version": 3
   },
   "file_extension": ".py",
   "mimetype": "text/x-python",
   "name": "python",
   "nbconvert_exporter": "python",
   "pygments_lexer": "ipython3",
   "version": "3.9.13"
  }
 },
 "nbformat": 4,
 "nbformat_minor": 2
}
