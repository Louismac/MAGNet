{
 "cells": [
  {
   "cell_type": "markdown",
   "metadata": {},
   "source": [
    "# MAGnet \n",
    "### Train your own models to generate audio in python or convert to use in the browser on mimicproject.com"
   ]
  },
  {
   "cell_type": "code",
   "execution_count": 2,
   "metadata": {},
   "outputs": [],
   "source": [
    "import sys\n",
    "import tensorflow as tf\n",
    "import pywt\n",
    "from utils.audio_dataset_generator import AudioDatasetGenerator\n",
    "import numpy as np\n",
    "import tensorflowjs as tfjs"
   ]
  },
  {
   "cell_type": "markdown",
   "metadata": {},
   "source": [
    "### Set up variables\n",
    "Including the path to your audio"
   ]
  },
  {
   "cell_type": "code",
   "execution_count": 6,
   "metadata": {
    "collapsed": true
   },
   "outputs": [],
   "source": [
    "# Model\n",
    "load_model           = False\n",
    "\n",
    "# Dataset\n",
    "sequence_length      = 40\n",
    "audio_data_path      = \"assets/grime/\"\n",
    "force_new_dataset    = True\n",
    "\n",
    "# Feature Extraction and Audio Genreation\n",
    "sample_rate          = 44100\n",
    "fft_settings         = [2048, 1024, 512]\n",
    "fft_size             = fft_settings[0]\n",
    "window_size          = fft_settings[1]\n",
    "hop_size             = fft_settings[2]\n",
    "\n",
    "# General Network\n",
    "learning_rate        = 0.001\n",
    "amount_epochs        = 100\n",
    "batch_size           = 64\n",
    "loss_type            = \"mse\"\n",
    "weight_decay         = 0.0001\n",
    "\n",
    "# Recurrent Neural Network\n",
    "rnn_type             = \"lstm\"\n",
    "number_rnn_layers    = 2\n",
    "rnn_number_units     = 256"
   ]
  },
  {
   "cell_type": "markdown",
   "metadata": {},
   "source": [
    "### Make the dataset from the audio"
   ]
  },
  {
   "cell_type": "code",
   "execution_count": null,
   "metadata": {},
   "outputs": [],
   "source": [
    "# Make your dataset\n",
    "\n",
    "dataset = AudioDatasetGenerator(fft_size, window_size, hop_size,\n",
    "                                sequence_length, sample_rate)\n",
    "\n",
    "dataset.load(audio_data_path, force_new_dataset)"
   ]
  },
  {
   "cell_type": "code",
   "execution_count": null,
   "metadata": {
    "collapsed": true
   },
   "outputs": [],
   "source": [
    "# Set up the model\n",
    "\n",
    "model = tf.keras.Sequential()\n",
    "\n",
    "model.add(tf.keras.layers.BatchNormalization(input_shape=[dataset.x_frames.shape[1], dataset.x_frames.shape[2]]))\n",
    "\n",
    "for layer in range(number_rnn_layers):\n",
    "    return_sequence = False if layer == (number_rnn_layers - 1) else True\n",
    "    model.add(tf.keras.layers.LSTM(rnn_number_units, return_sequences= return_sequence))\n",
    "    \n",
    "model.add(tf.keras.layers.Dense(dataset.y_frames.shape[1]))\n",
    "\n",
    "model.add(tf.keras.layers.Activation('linear'))\n",
    "opt = tf.keras.optimizers.Adam(learning_rate)\n",
    "model.compile(optimizer=opt, loss=loss_type)"
   ]
  },
  {
   "cell_type": "markdown",
   "metadata": {},
   "source": [
    "### Train your model"
   ]
  },
  {
   "cell_type": "code",
   "execution_count": null,
   "metadata": {
    "scrolled": true
   },
   "outputs": [],
   "source": [
    "# Train\n",
    "\n",
    "model.fit(dataset.x_frames, dataset.y_frames, batch_size=batch_size, epochs=amount_epochs)"
   ]
  },
  {
   "cell_type": "markdown",
   "metadata": {},
   "source": [
    "### Save your model as a keras model"
   ]
  },
  {
   "cell_type": "code",
   "execution_count": null,
   "metadata": {
    "collapsed": true
   },
   "outputs": [],
   "source": [
    "# Save your model\n",
    "\n",
    "model.save(\"<YOUR MODEL>.h5\")"
   ]
  },
  {
   "cell_type": "markdown",
   "metadata": {},
   "source": [
    "### Convert to use online with tensorflow.js. \n",
    "Find example code at https://mimicproject.com/code/b530ba9e-dfd9-0440-8358-86b6420b210d\n",
    "Upload the \n",
    "* .json file\n",
    "* the shards\n",
    "* your audio\n",
    "Update the MODEL_URLS and SAMPLE_URLS in dataset-paths.js"
   ]
  },
  {
   "cell_type": "code",
   "execution_count": 3,
   "metadata": {},
   "outputs": [],
   "source": [
    "# load your model\n",
    "\n",
    "model = tf.keras.models.load_model(\"../../models/linn_22050_2048_512_lstm_2_128.h5\")\n",
    "\n",
    "tfjs.converters.save_keras_model(model, \"linn_22050.json\")"
   ]
  },
  {
   "cell_type": "markdown",
   "metadata": {},
   "source": [
    "### Or generate samples in python"
   ]
  },
  {
   "cell_type": "code",
   "execution_count": 84,
   "metadata": {},
   "outputs": [
    {
     "name": "stdout",
     "output_type": "stream",
     "text": [
      "100% audio generation complete.   \r"
     ]
    }
   ],
   "source": [
    "# Or generate samples in python\n",
    "\n",
    "amount_samples      = 1\n",
    "sequence_length_max = 500\n",
    "impulse_scale       = 1.0\n",
    "griffin_iterations  = 60\n",
    "random_chance       = 0.05\n",
    "random_strength     = 0.0\n",
    "\n",
    "dimension1 = dataset.x_frames.shape[1]\n",
    "dimension2 = dataset.x_frames.shape[2]\n",
    "shape = (1, dimension1, dimension2, 1) if use_cnn else (1, dimension1, dimension2)\n",
    "\n",
    "audio = []\n",
    "\n",
    "if use_wavelets:\n",
    "    temp_audio = np.array(0)\n",
    "for i in range(amount_samples):                                                                                                                                   \n",
    "    \n",
    "    random_index = np.random.randint(0, (len(dataset.x_frames) - 1))                                                                                                                    \n",
    "                                                                                                                                                                              \n",
    "    impulse = np.array(dataset.x_frames[random_index]) * impulse_scale\n",
    "    predicted_magnitudes = impulse\n",
    "    \n",
    "    if use_wavelets:\n",
    "        for seq in range (impulse.shape[0]):\n",
    "            coeffs = pywt.array_to_coeffs(impulse[seq], dataset.coeff_slices)\n",
    "            recon = (pywt.waverecn(coeffs, wavelet=wavelet))\n",
    "            temp_audio = np.append(temp_audio, recon)\n",
    "    for j in range(sequence_length_max):\n",
    "        prediction = model.predict(impulse.reshape(shape))\n",
    "        #Wavelet audio\n",
    "        if use_wavelets:\n",
    "            coeffs = pywt.array_to_coeffs(prediction[0], dataset.coeff_slices)\n",
    "            recon = (pywt.waverecn(coeffs, wavelet=wavelet))\n",
    "            temp_audio = np.append(temp_audio, recon)\n",
    "        \n",
    "        if use_cnn:\n",
    "            prediction = prediction.reshape(1, dataset.y_frames.shape[1], 1)\n",
    "        \n",
    "        predicted_magnitudes = np.vstack((predicted_magnitudes, prediction))    \n",
    "        impulse = predicted_magnitudes[-sequence_length:]\n",
    "        \n",
    "        if (np.random.random_sample() < random_chance) :\n",
    "            idx = np.random.randint(0, dataset.sequence_length)\n",
    "            impulse[idx] = impulse[idx] + np.random.random_sample(impulse[idx].shape) * random_strength\n",
    "        \n",
    "        done = int(float(i * sequence_length_max + j) / float(amount_samples * sequence_length_max) * 100.0) + 1\n",
    "        sys.stdout.write('{}% audio generation complete.   \\r'.format(done))\n",
    "        sys.stdout.flush()\n",
    "        \n",
    "    if use_wavelets:                                                                                                                                                                        \n",
    "        audio += [temp_audio]\n",
    "    else:\n",
    "        predicted_magnitudes = np.array(predicted_magnitudes).reshape(-1, int(window_size)+1)                                                                           \n",
    "        audio += [dataset.griffin_lim(predicted_magnitudes.T, griffin_iterations)]\n",
    "audio = np.array(audio)"
   ]
  },
  {
   "cell_type": "code",
   "execution_count": 72,
   "metadata": {},
   "outputs": [
    {
     "name": "stderr",
     "output_type": "stream",
     "text": [
      "IOPub data rate exceeded.\n",
      "The notebook server will temporarily stop sending output\n",
      "to the client in order to avoid crashing it.\n",
      "To change this limit, set the config variable\n",
      "`--NotebookApp.iopub_data_rate_limit`.\n"
     ]
    }
   ],
   "source": [
    "# Play them back\n",
    "\n",
    "from IPython.display import Audio\n",
    "i = 0\n",
    "Audio(audio[i], rate=sample_rate)"
   ]
  }
 ],
 "metadata": {
  "kernelspec": {
   "display_name": "Python 3",
   "language": "python",
   "name": "python3"
  },
  "language_info": {
   "codemirror_mode": {
    "name": "ipython",
    "version": 3
   },
   "file_extension": ".py",
   "mimetype": "text/x-python",
   "name": "python",
   "nbconvert_exporter": "python",
   "pygments_lexer": "ipython3",
   "version": "3.8.5"
  }
 },
 "nbformat": 4,
 "nbformat_minor": 2
}
